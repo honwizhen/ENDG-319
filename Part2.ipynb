{
 "cells": [
  {
   "cell_type": "code",
   "execution_count": 637,
   "id": "39f45c58",
   "metadata": {},
   "outputs": [],
   "source": [
    "import numpy as np\n",
    "import pandas as pd\n",
    "from pandas import Series, DataFrame"
   ]
  },
  {
   "cell_type": "code",
   "execution_count": 638,
   "id": "9cfc140d",
   "metadata": {},
   "outputs": [],
   "source": [
    "df1 = pd.read_excel('C:\\ENDG 319\\Cure3\\Music_Data.xlsx')\n",
    "df = df1.drop(columns = ['Age', 'Number_of_Previous_Injuries', 'Instrument_Type'])"
   ]
  },
  {
   "cell_type": "code",
   "execution_count": 639,
   "id": "287a9e99",
   "metadata": {},
   "outputs": [],
   "source": [
    "dfx = df\n",
    "sy = df1.Performance_Level"
   ]
  },
  {
   "cell_type": "code",
   "execution_count": 640,
   "id": "ef625457",
   "metadata": {},
   "outputs": [],
   "source": [
    "from sklearn.model_selection import train_test_split\n",
    "dfx_train,dfx_test, sy_train, sy_test = train_test_split(dfx, sy)"
   ]
  },
  {
   "cell_type": "code",
   "execution_count": 641,
   "id": "e3db9e10",
   "metadata": {},
   "outputs": [],
   "source": [
    "dfx_train,dfx_test, sy_train, sy_test;"
   ]
  },
  {
   "cell_type": "code",
   "execution_count": 642,
   "id": "42a50c1b",
   "metadata": {},
   "outputs": [],
   "source": [
    "from sklearn import preprocessing\n",
    "le = preprocessing.LabelEncoder()"
   ]
  },
  {
   "cell_type": "code",
   "execution_count": 643,
   "id": "60dce4f3",
   "metadata": {},
   "outputs": [
    {
     "data": {
      "text/plain": [
       "array([0, 1, 2, 3, 4], dtype=int64)"
      ]
     },
     "execution_count": 643,
     "metadata": {},
     "output_type": "execute_result"
    }
   ],
   "source": [
    "le = le.fit(sy_train)\n",
    "le.classes_"
   ]
  },
  {
   "cell_type": "code",
   "execution_count": 644,
   "id": "76d0999c",
   "metadata": {},
   "outputs": [],
   "source": [
    "y_train = le.transform(sy_train)\n",
    "sy_train, y_train;"
   ]
  },
  {
   "cell_type": "code",
   "execution_count": 645,
   "id": "4bea896f",
   "metadata": {},
   "outputs": [],
   "source": [
    "dfx_train.to_numpy();"
   ]
  },
  {
   "cell_type": "code",
   "execution_count": 646,
   "id": "69906f32",
   "metadata": {},
   "outputs": [],
   "source": [
    "n1 = preprocessing.MinMaxScaler()\n",
    "n1 = n1.fit(dfx_train.to_numpy())\n",
    "x_train = n1.transform(dfx_train.to_numpy())\n",
    "x_train;"
   ]
  },
  {
   "cell_type": "code",
   "execution_count": 647,
   "id": "166b085a",
   "metadata": {},
   "outputs": [
    {
     "data": {
      "text/plain": [
       "(112, 3)"
      ]
     },
     "execution_count": 647,
     "metadata": {},
     "output_type": "execute_result"
    }
   ],
   "source": [
    "x_train.shape"
   ]
  },
  {
   "cell_type": "code",
   "execution_count": 648,
   "id": "633b26f3",
   "metadata": {},
   "outputs": [],
   "source": [
    "from sklearn.neighbors import KNeighborsClassifier\n",
    "\n",
    "test = []\n",
    "train = []\n",
    "i = 1\n",
    "while i < 13 :\n",
    "\n",
    "    knn = KNeighborsClassifier(n_neighbors = i)\n",
    "    knn = knn.fit(x_train,y_train)\n",
    "    y_test = le.transform(sy_test.to_numpy())\n",
    "    x_test = n1.transform(dfx_test.to_numpy())\n",
    "    knn.predict(x_test)\n",
    "    \n",
    "    a = knn.score(x_test,y_test)\n",
    "    b = knn.score(x_train,y_train)\n",
    "\n",
    "    test.append(a)\n",
    "    train.append(b)\n",
    "    i += 1\n",
    "    "
   ]
  },
  {
   "cell_type": "code",
   "execution_count": 649,
   "id": "0a1f8a5c",
   "metadata": {},
   "outputs": [
    {
     "data": {
      "text/plain": [
       "[0.9473684210526315,\n",
       " 0.9473684210526315,\n",
       " 0.9473684210526315,\n",
       " 0.9736842105263158,\n",
       " 0.9736842105263158,\n",
       " 0.9473684210526315,\n",
       " 0.9473684210526315,\n",
       " 0.9473684210526315,\n",
       " 0.9210526315789473,\n",
       " 0.9473684210526315,\n",
       " 0.9473684210526315,\n",
       " 0.9473684210526315]"
      ]
     },
     "execution_count": 649,
     "metadata": {},
     "output_type": "execute_result"
    }
   ],
   "source": [
    "test"
   ]
  },
  {
   "cell_type": "code",
   "execution_count": 650,
   "id": "602916ec",
   "metadata": {},
   "outputs": [
    {
     "data": {
      "text/plain": [
       "[1.0,\n",
       " 0.9821428571428571,\n",
       " 0.9732142857142857,\n",
       " 0.9642857142857143,\n",
       " 0.9553571428571429,\n",
       " 0.9464285714285714,\n",
       " 0.9642857142857143,\n",
       " 0.9553571428571429,\n",
       " 0.9642857142857143,\n",
       " 0.9732142857142857,\n",
       " 0.9642857142857143,\n",
       " 0.9642857142857143]"
      ]
     },
     "execution_count": 650,
     "metadata": {},
     "output_type": "execute_result"
    }
   ],
   "source": [
    "train"
   ]
  },
  {
   "cell_type": "code",
   "execution_count": 651,
   "id": "a3f5dc8d",
   "metadata": {},
   "outputs": [],
   "source": [
    "i = 1\n",
    "count = []\n",
    "while i < 13:\n",
    "    count.append(i)\n",
    "    i += 1\n"
   ]
  },
  {
   "cell_type": "code",
   "execution_count": 652,
   "id": "fc71e301",
   "metadata": {},
   "outputs": [
    {
     "data": {
      "text/plain": [
       "array([3, 1, 3, 0, 2, 3, 0, 2, 1, 2, 4, 3, 1, 0, 4, 1, 2, 2, 2, 2, 4, 1,\n",
       "       4, 1, 3, 0, 0, 0, 0, 0, 4, 4, 3, 0, 2, 1, 3, 2], dtype=int64)"
      ]
     },
     "execution_count": 652,
     "metadata": {},
     "output_type": "execute_result"
    }
   ],
   "source": [
    "y_test"
   ]
  },
  {
   "cell_type": "code",
   "execution_count": 653,
   "id": "06014324",
   "metadata": {},
   "outputs": [
    {
     "data": {
      "text/plain": [
       "<matplotlib.legend.Legend at 0x28605f20ac0>"
      ]
     },
     "execution_count": 653,
     "metadata": {},
     "output_type": "execute_result"
    },
    {
     "data": {
      "image/png": "[encoded data removed]",
      "text/plain": [
       "<Figure size 1000x250 with 1 Axes>"
      ]
     },
     "metadata": {},
     "output_type": "display_data"
    }
   ],
   "source": [
    "import numpy as np\n",
    "import matplotlib.pyplot as plt\n",
    "fig, axs = plt.subplots(nrows=1, ncols=1, figsize=(10,2.5))\n",
    "axs.scatter(count, test, c = 'blue', label = 'test')\n",
    "axs.scatter(count, train, c = 'red', label = 'train')\n",
    "axs.set_xticks(count)\n",
    "axs.set_ylim(0.9,1)\n",
    "axs.set_xlabel('knn number')\n",
    "axs.set_ylabel('score')\n",
    "axs.legend()"
   ]
  },
  {
   "cell_type": "code",
   "execution_count": null,
   "id": "a562df00",
   "metadata": {},
   "outputs": [],
   "source": [
    "\n",
    "## For Minmax scalar the best k value is 5"
   ]
  },
  {
   "cell_type": "code",
   "execution_count": null,
   "id": "0528d4e7",
   "metadata": {},
   "outputs": [],
   "source": []
  },
  {
   "cell_type": "code",
   "execution_count": null,
   "id": "b20b93ef",
   "metadata": {},
   "outputs": [],
   "source": []
  },
  {
   "cell_type": "code",
   "execution_count": null,
   "id": "7bd9ec45",
   "metadata": {},
   "outputs": [],
   "source": []
  }
 ],
 "metadata": {
  "kernelspec": {
   "display_name": "Python 3 (ipykernel)",
   "language": "python",
   "name": "python3"
  },
  "language_info": {
   "codemirror_mode": {
    "name": "ipython",
    "version": 3
   },
   "file_extension": ".py",
   "mimetype": "text/x-python",
   "name": "python",
   "nbconvert_exporter": "python",
   "pygments_lexer": "ipython3",
   "version": "3.9.12"
  },
  "vscode": {
   "interpreter": {
    "hash": "410af4f90244b27d3e2ea762a0289e48acefd3261845cfb3a0fc0f00acfa42cc"
   }
  }
 },
 "nbformat": 4,
 "nbformat_minor": 5
}
