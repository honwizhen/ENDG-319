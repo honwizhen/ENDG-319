{
 "cells": [
  {
   "cell_type": "code",
   "execution_count": 2,
   "id": "d0f76d77",
   "metadata": {},
   "outputs": [
    {
     "data": {
      "text/html": [
       "<div>\n",
       "<style scoped>\n",
       "    .dataframe tbody tr th:only-of-type {\n",
       "        vertical-align: middle;\n",
       "    }\n",
       "\n",
       "    .dataframe tbody tr th {\n",
       "        vertical-align: top;\n",
       "    }\n",
       "\n",
       "    .dataframe thead th {\n",
       "        text-align: right;\n",
       "    }\n",
       "</style>\n",
       "<table border=\"1\" class=\"dataframe\">\n",
       "  <thead>\n",
       "    <tr style=\"text-align: right;\">\n",
       "      <th></th>\n",
       "      <th>Max Temperature(in C)</th>\n",
       "      <th>Avg Temperature(in C)</th>\n",
       "      <th>Min Temperature(in C)</th>\n",
       "      <th>Class</th>\n",
       "      <th>Year</th>\n",
       "    </tr>\n",
       "  </thead>\n",
       "  <tbody>\n",
       "    <tr>\n",
       "      <th>0</th>\n",
       "      <td>32.4</td>\n",
       "      <td>11.6</td>\n",
       "      <td>-6.8</td>\n",
       "      <td>0</td>\n",
       "      <td>2021</td>\n",
       "    </tr>\n",
       "    <tr>\n",
       "      <th>1</th>\n",
       "      <td>29.3</td>\n",
       "      <td>10.7</td>\n",
       "      <td>-8.0</td>\n",
       "      <td>0</td>\n",
       "      <td>2020</td>\n",
       "    </tr>\n",
       "    <tr>\n",
       "      <th>2</th>\n",
       "      <td>29.9</td>\n",
       "      <td>10.5</td>\n",
       "      <td>-8.8</td>\n",
       "      <td>0</td>\n",
       "      <td>2019</td>\n",
       "    </tr>\n",
       "    <tr>\n",
       "      <th>3</th>\n",
       "      <td>29.0</td>\n",
       "      <td>10.9</td>\n",
       "      <td>-7.5</td>\n",
       "      <td>0</td>\n",
       "      <td>2018</td>\n",
       "    </tr>\n",
       "    <tr>\n",
       "      <th>4</th>\n",
       "      <td>29.5</td>\n",
       "      <td>10.2</td>\n",
       "      <td>-8.4</td>\n",
       "      <td>0</td>\n",
       "      <td>2017</td>\n",
       "    </tr>\n",
       "    <tr>\n",
       "      <th>...</th>\n",
       "      <td>...</td>\n",
       "      <td>...</td>\n",
       "      <td>...</td>\n",
       "      <td>...</td>\n",
       "      <td>...</td>\n",
       "    </tr>\n",
       "    <tr>\n",
       "      <th>115</th>\n",
       "      <td>34.3</td>\n",
       "      <td>7.8</td>\n",
       "      <td>-21.9</td>\n",
       "      <td>2</td>\n",
       "      <td>1986</td>\n",
       "    </tr>\n",
       "    <tr>\n",
       "      <th>116</th>\n",
       "      <td>33.0</td>\n",
       "      <td>7.5</td>\n",
       "      <td>-23.7</td>\n",
       "      <td>2</td>\n",
       "      <td>1985</td>\n",
       "    </tr>\n",
       "    <tr>\n",
       "      <th>117</th>\n",
       "      <td>32.1</td>\n",
       "      <td>7.6</td>\n",
       "      <td>-26.8</td>\n",
       "      <td>2</td>\n",
       "      <td>1984</td>\n",
       "    </tr>\n",
       "    <tr>\n",
       "      <th>118</th>\n",
       "      <td>35.7</td>\n",
       "      <td>8.1</td>\n",
       "      <td>-22.0</td>\n",
       "      <td>2</td>\n",
       "      <td>1983</td>\n",
       "    </tr>\n",
       "    <tr>\n",
       "      <th>119</th>\n",
       "      <td>33.0</td>\n",
       "      <td>7.1</td>\n",
       "      <td>-26.0</td>\n",
       "      <td>2</td>\n",
       "      <td>1982</td>\n",
       "    </tr>\n",
       "  </tbody>\n",
       "</table>\n",
       "<p>120 rows × 5 columns</p>\n",
       "</div>"
      ],
      "text/plain": [
       "     Max Temperature(in C)  Avg Temperature(in C)  Min Temperature(in C)  \\\n",
       "0                     32.4                   11.6                   -6.8   \n",
       "1                     29.3                   10.7                   -8.0   \n",
       "2                     29.9                   10.5                   -8.8   \n",
       "3                     29.0                   10.9                   -7.5   \n",
       "4                     29.5                   10.2                   -8.4   \n",
       "..                     ...                    ...                    ...   \n",
       "115                   34.3                    7.8                  -21.9   \n",
       "116                   33.0                    7.5                  -23.7   \n",
       "117                   32.1                    7.6                  -26.8   \n",
       "118                   35.7                    8.1                  -22.0   \n",
       "119                   33.0                    7.1                  -26.0   \n",
       "\n",
       "     Class  Year  \n",
       "0        0  2021  \n",
       "1        0  2020  \n",
       "2        0  2019  \n",
       "3        0  2018  \n",
       "4        0  2017  \n",
       "..     ...   ...  \n",
       "115      2  1986  \n",
       "116      2  1985  \n",
       "117      2  1984  \n",
       "118      2  1983  \n",
       "119      2  1982  \n",
       "\n",
       "[120 rows x 5 columns]"
      ]
     },
     "execution_count": 2,
     "metadata": {},
     "output_type": "execute_result"
    }
   ],
   "source": [
    "import numpy as np\n",
    "import pandas as pd\n",
    "from pandas import Series, DataFrame\n",
    "import matplotlib.pyplot as plt\n",
    "import sklearn.datasets\n",
    "myfd = DataFrame()\n",
    "myfd[\"Max Temperature(in C)\"] = [32.4, 29.3, 29.9, 29.0, 29.5, 26.4, 28.3, 28.3, 31.2, 28.6, 27.4, 29.8, 34.4, 29.0, 28.3, 28.9, 28.8, 29.8, 27.9, 30.2, 26.9, 27.5, 27.4, 31.9, 27.8, 27.9, 28.6, 29.0, 29.4, 28.8, 29.0, 31.9, 26.1, 31.5, 28.9, 27.9, 28.8, 27.0, 30.4, 27.9,36.3, 33.4, 31.4, 36.5, 33.0, 30.9, 33.6, 32.2, 32.8, 30.5, 30.4, 31.4, 33.2, 34.0, 32.3, 32.5, 32.3, 32.9, 32.8, 34.2, 34.3, 31.3, 32.3, 32.5, 33.9, 32.4, 28.3, 33.5, 28.9, 31.4, 32.7, 33.3, 31.6, 32.8, 31.8, 32.4, 34.0,35.3, 34.5, 30.0,33.8, 35.5, 33.0, 35.4, 33.6, 36.0, 34.0, 32.2, 34.9, 36.8, 37.9, 34.5, 31.4, 34.1, 34.8, 36.6, 35.5, 31.8, 34.4, 35.6, 37.9, 31.3, 35.0, 33.5, 34.1, 30.6, 36.8, 36.2, 34.6, 31.5, 35.1, 35.4, 33.3, 37.6, 34.9, 34.3, 33.0, 32.1, 35.7, 33.0]\n",
    "myfd[\"Avg Temperature(in C)\"] = [11.6, 10.7, 10.5, 10.9, 10.2, 11.2, 11.5, 11.0, 10.4, 10.3, 9.9, 10.9, 10.3, 9.8, 10.2, 10.7, 10.8, 11.4, 10.9, 10.3, 10.2, 10.2, 10.3, 11.3, 10.8, 9.7, 11.0, 10.9, 10.0, 11.0, 10.2, 10.3, 10.2, 10.4, 10.9, 10.4, 9.0, 9.8, 10.5, 9.7,7.3, 5.1, 3.9, 4.5, 5.3, 6.3, 6.3, 4.4, 4.8, 4.9, 4.4, 4.5, 4.0, 4.5, 4.9, 5.4, 5.0, 4.9, 4.4, 3.9, 5.2,  3.7, 5.2, 4.7, 4.4, 1.8, 3.4, 4.5, 4.4, 5.1, 5.2, 4.7, 4.3, 5.9,7.0, 5.5, 4.2, 4.5, 4.6, 2.7,11.3, 9.9, 8.3, 9.2, 9.4, 10.2, 8.8, 7.7, 8.7, 10.6, 9.3, 9.7, 8.2, 8.4, 9.2, 9.9, 9.2, 8.4, 8.1, 9.6, 9.7, 8.4, 9.6, 10.3, 7.8, 7.3, 8.0, 7.5, 7.5, 7.2, 9.1, 8.9, 7.3, 8.1, 8.8, 7.8, 7.5, 7.6, 8.1, 7.1]\n",
    "myfd[\"Min Temperature(in C)\"] = [-6.8, -8.0, -8.8, -7.5, -8.4, -8.7, -5.4, -9.9, -10.0, -8.0, -8.1, -9.5, -6.5, -15.2, -9.2, -12.0, -9.8, -12.2, -5.5, -7.8, -4.8, -6.2, -3.1, -10.1, -9.0, -12.5, -7.3, -8.1, -14.1, -10.6, -9.1, -13.9, -11.2, -8.0, -4.4, -10.4, -14.3, -11.3, -13.2, -11.9,-30.8, -32.4, -31.2, -30.6, -31.3, -26.7, -25.3, -30.4, -30.1, -32.4, -29.9, -31.2, -32.4, -33.3, -26.1, -30.1, -35.0, -33.8,  -32.3, -33.1, -26.8, -30.9, -25.2, -35.8, -39.7, -38.2, -32.2, -32.5, -33.0, -35.0, -31.3, -34.4, -36.2, -30.6, -23.7, -37.5, -33.8, -36.2, -36.5, -35.6,-16.0, -20.6, -22.8, -23.5, -22.6, -26.3, -25.5, -24.2, -20.9,-16.5, -21.2, -19.0, -22.2, -18.2, -22.1, --14.5, -24.2, -24.3, -24.7, -16.5, -19.9, -22.0, -23.6, -17.4, -24.6, -22.2, -22.8, -31.0, -21.8, -22.1, -21.3, -19.5, -25.0, -23.7, -23.8, -21.9, -23.7, -26.8, -22.0, -26]\n",
    "myfd[\"Class\"] = [0,0,0,0,0,0,0,0,0,0,0,0,0,0,0,0,0,0,0,0,0,0,0,0,0,0,0,0,0,0,0,0,0,0,0,0,0,0,0,0,1,1,1,1,1,1,1,1,1,1,1,1,1,1,1,1,1,1,1,1,1,1,1,1,1,1,1,1,1,1,1,1,1,1,1,1,1,1,1,1,2,2,2,2,2,2,2,2,2,2,2,2,2,2,2,2,2,2,2,2,2,2,2,2,2,2,2,2,2,2,2,2,2,2,2,2,2,2,2,2]\n",
    "myfd[\"Year\"] = [2021, 2020, 2019, 2018, 2017, 2016, 2015 ,2014 ,2013 ,2012 ,2011 ,2010 ,2009 ,2008 ,2007 ,2006, 2005 ,2004, 2003, 2002, 2001, 2000, 1999, 1998, 1997, 1996, 1995, 1994, 1993, 1992, 1991, 1990, 1989, 1988, 1987, 1986, 1985, 1984, 1983, 1982,2021, 2020, 2019, 2018, 2017, 2016, 2015 ,2014 ,2013 ,2012 ,2011 ,2010 ,2009 ,2008 ,2007 ,2006, 2005 ,2004, 2003, 2002, 2001, 2000, 1999, 1998, 1997, 1996, 1995, 1994, 1993, 1992, 1991, 1990, 1989, 1988, 1987, 1986, 1985, 1984, 1983, 1982,2021, 2020, 2019, 2018, 2017, 2016, 2015 ,2014 ,2013 ,2012 ,2011 ,2010 ,2009 ,2008 ,2007 ,2006, 2005 ,2004, 2003, 2002, 2001, 2000, 1999, 1998, 1997, 1996, 1995, 1994, 1993, 1992, 1991, 1990, 1989, 1988, 1987, 1986, 1985, 1984, 1983, 1982]\n",
    "myfd.style.set_caption(\"Table 1: Annual Weather Statistics of Vancouver,Calgary and Toronto\")\n",
    "myfd\n"
   ]
  },
  {
   "cell_type": "code",
   "execution_count": 3,
   "id": "b2ed4963",
   "metadata": {},
   "outputs": [],
   "source": [
    "dfX = myfd.drop (columns =['Class'])\n",
    "sy = myfd.Class\n",
    "sy;"
   ]
  },
  {
   "cell_type": "code",
   "execution_count": 6,
   "id": "332fd501",
   "metadata": {},
   "outputs": [
    {
     "data": {
      "text/plain": [
       "0      0\n",
       "1      0\n",
       "2      0\n",
       "3      0\n",
       "4      0\n",
       "      ..\n",
       "115    2\n",
       "116    2\n",
       "117    2\n",
       "118    2\n",
       "119    2\n",
       "Name: Class, Length: 120, dtype: int64"
      ]
     },
     "execution_count": 6,
     "metadata": {},
     "output_type": "execute_result"
    }
   ],
   "source": [
    "sy\n"
   ]
  },
  {
   "cell_type": "code",
   "execution_count": 4,
   "id": "30b4b432",
   "metadata": {},
   "outputs": [],
   "source": [
    "from sklearn.model_selection import train_test_split\n",
    "dfX_train, dfX_test, sy_train, sy_test = train_test_split(dfX,sy)\n",
    "dfX_train, dfX_test, sy_train, sy_test;"
   ]
  },
  {
   "cell_type": "code",
   "execution_count": 5,
   "id": "9c81b668",
   "metadata": {},
   "outputs": [
    {
     "data": {
      "text/plain": [
       "LabelEncoder()"
      ]
     },
     "execution_count": 5,
     "metadata": {},
     "output_type": "execute_result"
    }
   ],
   "source": [
    "from sklearn import preprocessing\n",
    "le = preprocessing.LabelEncoder()\n",
    "le"
   ]
  },
  {
   "cell_type": "code",
   "execution_count": 6,
   "id": "1b30dca6",
   "metadata": {},
   "outputs": [
    {
     "data": {
      "text/plain": [
       "array([0, 1, 2])"
      ]
     },
     "execution_count": 6,
     "metadata": {},
     "output_type": "execute_result"
    }
   ],
   "source": [
    "le = le.fit(sy_train)\n",
    "le.classes_"
   ]
  },
  {
   "cell_type": "code",
   "execution_count": 7,
   "id": "c59df05e",
   "metadata": {},
   "outputs": [],
   "source": [
    "y_train = le.transform(sy_train)\n",
    "sy_train, y_train;"
   ]
  },
  {
   "cell_type": "code",
   "execution_count": 14,
   "id": "f1348a6b",
   "metadata": {},
   "outputs": [],
   "source": [
    "dfX_train.to_numpy()\n",
    "n1 = preprocessing.StandardScaler()\n",
    "n1 = n1.fit(dfX_train.to_numpy())\n",
    "\n",
    "X_train = n1.transform (dfX_train.to_numpy())\n",
    "X_train;"
   ]
  },
  {
   "cell_type": "code",
   "execution_count": 9,
   "id": "2b4603b9",
   "metadata": {},
   "outputs": [
    {
     "data": {
      "text/plain": [
       "(90, 4)"
      ]
     },
     "execution_count": 9,
     "metadata": {},
     "output_type": "execute_result"
    }
   ],
   "source": [
    "X_train.shape\n"
   ]
  },
  {
   "cell_type": "code",
   "execution_count": 18,
   "id": "b72ba79d",
   "metadata": {},
   "outputs": [
    {
     "data": {
      "text/plain": [
       "[1.0,\n",
       " 0.9888888888888889,\n",
       " 0.9888888888888889,\n",
       " 0.9666666666666667,\n",
       " 0.9888888888888889,\n",
       " 0.9888888888888889,\n",
       " 0.9777777777777777,\n",
       " 0.9777777777777777,\n",
       " 0.9666666666666667,\n",
       " 0.9666666666666667,\n",
       " 0.9777777777777777,\n",
       " 0.9777777777777777,\n",
       " 0.9777777777777777,\n",
       " 0.9666666666666667,\n",
       " 0.9555555555555556,\n",
       " 0.9666666666666667,\n",
       " 0.9666666666666667,\n",
       " 0.9666666666666667,\n",
       " 0.9666666666666667,\n",
       " 0.9555555555555556,\n",
       " 0.9555555555555556,\n",
       " 0.9555555555555556,\n",
       " 0.9555555555555556,\n",
       " 0.9555555555555556,\n",
       " 0.9555555555555556,\n",
       " 0.9555555555555556,\n",
       " 0.9555555555555556,\n",
       " 0.9555555555555556,\n",
       " 0.9444444444444444,\n",
       " 0.9555555555555556,\n",
       " 0.9666666666666667,\n",
       " 0.9666666666666667,\n",
       " 0.9666666666666667,\n",
       " 0.9555555555555556,\n",
       " 0.9555555555555556,\n",
       " 0.9555555555555556,\n",
       " 0.9555555555555556,\n",
       " 0.9444444444444444,\n",
       " 0.9444444444444444,\n",
       " 0.9333333333333333,\n",
       " 0.9333333333333333,\n",
       " 0.9444444444444444,\n",
       " 0.9444444444444444,\n",
       " 0.9333333333333333,\n",
       " 0.9444444444444444,\n",
       " 0.9555555555555556,\n",
       " 0.9666666666666667,\n",
       " 0.9666666666666667,\n",
       " 0.9666666666666667,\n",
       " 0.9444444444444444,\n",
       " 0.9333333333333333,\n",
       " 0.9444444444444444,\n",
       " 0.9444444444444444,\n",
       " 0.9444444444444444,\n",
       " 0.9333333333333333,\n",
       " 0.9333333333333333,\n",
       " 0.9333333333333333,\n",
       " 0.9555555555555556,\n",
       " 0.9444444444444444,\n",
       " 0.8888888888888888,\n",
       " 0.8777777777777778,\n",
       " 0.8777777777777778,\n",
       " 0.8666666666666667,\n",
       " 0.8666666666666667,\n",
       " 0.8333333333333334,\n",
       " 0.8333333333333334,\n",
       " 0.8,\n",
       " 0.7888888888888889,\n",
       " 0.7666666666666667,\n",
       " 0.7555555555555555,\n",
       " 0.7444444444444445,\n",
       " 0.6777777777777778,\n",
       " 0.6555555555555556,\n",
       " 0.6222222222222222,\n",
       " 0.5888888888888889,\n",
       " 0.5777777777777777,\n",
       " 0.5333333333333333,\n",
       " 0.5111111111111111,\n",
       " 0.4777777777777778,\n",
       " 0.4888888888888889,\n",
       " 0.43333333333333335,\n",
       " 0.43333333333333335,\n",
       " 0.43333333333333335,\n",
       " 0.4,\n",
       " 0.37777777777777777,\n",
       " 0.37777777777777777,\n",
       " 0.36666666666666664,\n",
       " 0.36666666666666664,\n",
       " 0.36666666666666664]"
      ]
     },
     "execution_count": 18,
     "metadata": {},
     "output_type": "execute_result"
    }
   ],
   "source": [
    "counter = 1\n",
    "datalist_knn = []\n",
    "datalist_test = []\n",
    "datalist_train = []\n",
    "from sklearn.neighbors import KNeighborsClassifier\n",
    "while counter < 90:\n",
    "    knn = KNeighborsClassifier(n_neighbors= counter )\n",
    "    knn = knn.fit(X_train,y_train)\n",
    "    y_test = le.transform(sy_test.to_numpy())\n",
    "    X_test = n1.transform(dfX_test.to_numpy())\n",
    "    datalist_knn.append(counter)\n",
    "    datalist_test.append(knn.score(X_test, y_test))\n",
    "    datalist_train.append(knn.score(X_train, y_train))\n",
    "    counter += 1\n",
    "datalist_train"
   ]
  },
  {
   "cell_type": "code",
   "execution_count": 17,
   "id": "b1af1ad1",
   "metadata": {},
   "outputs": [
    {
     "data": {
      "text/plain": [
       "[0.9666666666666667,\n",
       " 0.9333333333333333,\n",
       " 0.9666666666666667,\n",
       " 0.9666666666666667,\n",
       " 0.9666666666666667,\n",
       " 0.9666666666666667,\n",
       " 0.9666666666666667,\n",
       " 0.9666666666666667,\n",
       " 0.9666666666666667,\n",
       " 0.9666666666666667,\n",
       " 0.9666666666666667,\n",
       " 0.9666666666666667,\n",
       " 0.9666666666666667,\n",
       " 0.9666666666666667,\n",
       " 0.9666666666666667,\n",
       " 0.9666666666666667,\n",
       " 0.9666666666666667,\n",
       " 0.9666666666666667,\n",
       " 0.9666666666666667,\n",
       " 0.9666666666666667,\n",
       " 0.9666666666666667,\n",
       " 0.9666666666666667,\n",
       " 0.9666666666666667,\n",
       " 0.9666666666666667,\n",
       " 0.9666666666666667,\n",
       " 0.9666666666666667,\n",
       " 0.9666666666666667,\n",
       " 0.9666666666666667,\n",
       " 0.9666666666666667,\n",
       " 0.9666666666666667,\n",
       " 0.9666666666666667,\n",
       " 0.9666666666666667,\n",
       " 0.9666666666666667,\n",
       " 0.9666666666666667,\n",
       " 0.9666666666666667,\n",
       " 0.9333333333333333,\n",
       " 0.9666666666666667,\n",
       " 0.9666666666666667,\n",
       " 0.9666666666666667,\n",
       " 0.9666666666666667,\n",
       " 0.9666666666666667,\n",
       " 0.9666666666666667,\n",
       " 0.9666666666666667,\n",
       " 0.9333333333333333,\n",
       " 0.9333333333333333,\n",
       " 0.9333333333333333,\n",
       " 0.9333333333333333,\n",
       " 0.9666666666666667,\n",
       " 0.9,\n",
       " 0.9333333333333333,\n",
       " 0.9666666666666667,\n",
       " 0.9,\n",
       " 0.9666666666666667,\n",
       " 0.9333333333333333,\n",
       " 0.9,\n",
       " 0.9333333333333333,\n",
       " 0.9,\n",
       " 0.9,\n",
       " 0.8666666666666667,\n",
       " 0.8666666666666667,\n",
       " 0.8666666666666667,\n",
       " 0.8333333333333334,\n",
       " 0.8333333333333334,\n",
       " 0.8,\n",
       " 0.7333333333333333,\n",
       " 0.7333333333333333,\n",
       " 0.7,\n",
       " 0.6666666666666666,\n",
       " 0.6333333333333333,\n",
       " 0.6333333333333333,\n",
       " 0.6,\n",
       " 0.6,\n",
       " 0.6,\n",
       " 0.6,\n",
       " 0.5333333333333333,\n",
       " 0.4666666666666667,\n",
       " 0.4,\n",
       " 0.4,\n",
       " 0.4,\n",
       " 0.36666666666666664,\n",
       " 0.36666666666666664,\n",
       " 0.3333333333333333,\n",
       " 0.3333333333333333,\n",
       " 0.3333333333333333,\n",
       " 0.26666666666666666,\n",
       " 0.26666666666666666,\n",
       " 0.23333333333333334,\n",
       " 0.23333333333333334,\n",
       " 0.23333333333333334]"
      ]
     },
     "execution_count": 17,
     "metadata": {},
     "output_type": "execute_result"
    }
   ],
   "source": [
    "datalist_test"
   ]
  },
  {
   "cell_type": "code",
   "execution_count": 11,
   "id": "3792f428",
   "metadata": {},
   "outputs": [],
   "source": [
    "df_plot = DataFrame()\n",
    "df_plot['knn_values'] = datalist_knn[:]\n",
    "df_plot['test'] = datalist_test[:]\n",
    "df_plot['train'] = datalist_train[:]"
   ]
  },
  {
   "cell_type": "code",
   "execution_count": 12,
   "id": "bf92bec8",
   "metadata": {},
   "outputs": [
    {
     "data": {
      "text/html": [
       "<div>\n",
       "<style scoped>\n",
       "    .dataframe tbody tr th:only-of-type {\n",
       "        vertical-align: middle;\n",
       "    }\n",
       "\n",
       "    .dataframe tbody tr th {\n",
       "        vertical-align: top;\n",
       "    }\n",
       "\n",
       "    .dataframe thead th {\n",
       "        text-align: right;\n",
       "    }\n",
       "</style>\n",
       "<table border=\"1\" class=\"dataframe\">\n",
       "  <thead>\n",
       "    <tr style=\"text-align: right;\">\n",
       "      <th></th>\n",
       "      <th>knn_values</th>\n",
       "      <th>test</th>\n",
       "      <th>train</th>\n",
       "    </tr>\n",
       "  </thead>\n",
       "  <tbody>\n",
       "    <tr>\n",
       "      <th>0</th>\n",
       "      <td>1</td>\n",
       "      <td>0.966667</td>\n",
       "      <td>1.000000</td>\n",
       "    </tr>\n",
       "    <tr>\n",
       "      <th>1</th>\n",
       "      <td>2</td>\n",
       "      <td>0.933333</td>\n",
       "      <td>0.988889</td>\n",
       "    </tr>\n",
       "    <tr>\n",
       "      <th>2</th>\n",
       "      <td>3</td>\n",
       "      <td>0.966667</td>\n",
       "      <td>0.988889</td>\n",
       "    </tr>\n",
       "    <tr>\n",
       "      <th>3</th>\n",
       "      <td>4</td>\n",
       "      <td>0.966667</td>\n",
       "      <td>0.966667</td>\n",
       "    </tr>\n",
       "    <tr>\n",
       "      <th>4</th>\n",
       "      <td>5</td>\n",
       "      <td>0.966667</td>\n",
       "      <td>0.988889</td>\n",
       "    </tr>\n",
       "    <tr>\n",
       "      <th>...</th>\n",
       "      <td>...</td>\n",
       "      <td>...</td>\n",
       "      <td>...</td>\n",
       "    </tr>\n",
       "    <tr>\n",
       "      <th>84</th>\n",
       "      <td>85</td>\n",
       "      <td>0.266667</td>\n",
       "      <td>0.377778</td>\n",
       "    </tr>\n",
       "    <tr>\n",
       "      <th>85</th>\n",
       "      <td>86</td>\n",
       "      <td>0.266667</td>\n",
       "      <td>0.377778</td>\n",
       "    </tr>\n",
       "    <tr>\n",
       "      <th>86</th>\n",
       "      <td>87</td>\n",
       "      <td>0.233333</td>\n",
       "      <td>0.366667</td>\n",
       "    </tr>\n",
       "    <tr>\n",
       "      <th>87</th>\n",
       "      <td>88</td>\n",
       "      <td>0.233333</td>\n",
       "      <td>0.366667</td>\n",
       "    </tr>\n",
       "    <tr>\n",
       "      <th>88</th>\n",
       "      <td>89</td>\n",
       "      <td>0.233333</td>\n",
       "      <td>0.366667</td>\n",
       "    </tr>\n",
       "  </tbody>\n",
       "</table>\n",
       "<p>89 rows × 3 columns</p>\n",
       "</div>"
      ],
      "text/plain": [
       "    knn_values      test     train\n",
       "0            1  0.966667  1.000000\n",
       "1            2  0.933333  0.988889\n",
       "2            3  0.966667  0.988889\n",
       "3            4  0.966667  0.966667\n",
       "4            5  0.966667  0.988889\n",
       "..         ...       ...       ...\n",
       "84          85  0.266667  0.377778\n",
       "85          86  0.266667  0.377778\n",
       "86          87  0.233333  0.366667\n",
       "87          88  0.233333  0.366667\n",
       "88          89  0.233333  0.366667\n",
       "\n",
       "[89 rows x 3 columns]"
      ]
     },
     "execution_count": 12,
     "metadata": {},
     "output_type": "execute_result"
    }
   ],
   "source": [
    "df_plot"
   ]
  },
  {
   "cell_type": "code",
   "execution_count": 13,
   "id": "5184ae7a",
   "metadata": {},
   "outputs": [
    {
     "data": {
      "text/plain": [
       "<AxesSubplot:xlabel='knn', ylabel='Model accuracy'>"
      ]
     },
     "execution_count": 13,
     "metadata": {},
     "output_type": "execute_result"
    },
    {
     "data": {
      "image/png": "[encoded data removed]",
      "text/plain": [
       "<Figure size 360x360 with 1 Axes>"
      ]
     },
     "metadata": {
      "needs_background": "light"
     },
     "output_type": "display_data"
    }
   ],
   "source": [
    "fig, axs = plt.subplots(figsize=(5,5))\n",
    "\n",
    "axs1 = plt.subplot2grid (shape = (1,1), loc = (0,0))\n",
    "\n",
    "axs1.scatter (df_plot.iloc[0:89,0],df_plot.iloc[0:89,1],c = 'b',label = \"test\")\n",
    "axs1.scatter (df_plot.iloc[0:89,0],df_plot.iloc[0:89,2],c = 'r', label = \"train\")\n",
    "axs1.set_xlabel ('knn')\n",
    "axs1.set_ylabel ('Model accuracy')\n",
    "axs1.legend()\n",
    "axs1"
   ]
  },
  {
   "cell_type": "code",
   "execution_count": null,
   "id": "1a399256",
   "metadata": {},
   "outputs": [],
   "source": []
  }
 ],
 "metadata": {
  "celltoolbar": "Raw Cell Format",
  "kernelspec": {
   "display_name": "Python 3 (ipykernel)",
   "language": "python",
   "name": "python3"
  },
  "language_info": {
   "codemirror_mode": {
    "name": "ipython",
    "version": 3
   },
   "file_extension": ".py",
   "mimetype": "text/x-python",
   "name": "python",
   "nbconvert_exporter": "python",
   "pygments_lexer": "ipython3",
   "version": "3.9.12"
  }
 },
 "nbformat": 4,
 "nbformat_minor": 5
}
