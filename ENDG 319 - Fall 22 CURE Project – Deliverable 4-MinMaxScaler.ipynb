{
 "cells": [
  {
   "cell_type": "markdown",
   "id": "7bf00277",
   "metadata": {},
   "source": [
    "Develop a knn-classifier model using Python. Use a fixed value of k such as 1. Preprocess\n",
    "attributes with MinMaxScaler(). Follow the steps shown in video 13."
   ]
  },
  {
   "cell_type": "code",
   "execution_count": 1,
   "id": "a4b8d017",
   "metadata": {},
   "outputs": [
    {
     "data": {
      "text/html": [
       "<div>\n",
       "<style scoped>\n",
       "    .dataframe tbody tr th:only-of-type {\n",
       "        vertical-align: middle;\n",
       "    }\n",
       "\n",
       "    .dataframe tbody tr th {\n",
       "        vertical-align: top;\n",
       "    }\n",
       "\n",
       "    .dataframe thead th {\n",
       "        text-align: right;\n",
       "    }\n",
       "</style>\n",
       "<table border=\"1\" class=\"dataframe\">\n",
       "  <thead>\n",
       "    <tr style=\"text-align: right;\">\n",
       "      <th></th>\n",
       "      <th>Instance</th>\n",
       "      <th>Player Name</th>\n",
       "      <th>Position</th>\n",
       "      <th>Age</th>\n",
       "      <th>Games Played</th>\n",
       "      <th>Minutes Played</th>\n",
       "      <th>Field Goals Attempted</th>\n",
       "      <th>Field Goal%</th>\n",
       "      <th>effective Field Goal%</th>\n",
       "      <th>Rebounds</th>\n",
       "      <th>Assists</th>\n",
       "      <th>Points</th>\n",
       "      <th>All_Star</th>\n",
       "    </tr>\n",
       "  </thead>\n",
       "  <tbody>\n",
       "    <tr>\n",
       "      <th>0</th>\n",
       "      <td>1</td>\n",
       "      <td>Mikal Bridges</td>\n",
       "      <td>Forward</td>\n",
       "      <td>25</td>\n",
       "      <td>82</td>\n",
       "      <td>2854</td>\n",
       "      <td>858</td>\n",
       "      <td>0.534</td>\n",
       "      <td>0.601</td>\n",
       "      <td>347</td>\n",
       "      <td>185</td>\n",
       "      <td>1162</td>\n",
       "      <td>N</td>\n",
       "    </tr>\n",
       "    <tr>\n",
       "      <th>1</th>\n",
       "      <td>2</td>\n",
       "      <td>Miles Bridges</td>\n",
       "      <td>Forward</td>\n",
       "      <td>23</td>\n",
       "      <td>80</td>\n",
       "      <td>2837</td>\n",
       "      <td>1214</td>\n",
       "      <td>0.491</td>\n",
       "      <td>0.554</td>\n",
       "      <td>559</td>\n",
       "      <td>300</td>\n",
       "      <td>1613</td>\n",
       "      <td>N</td>\n",
       "    </tr>\n",
       "    <tr>\n",
       "      <th>2</th>\n",
       "      <td>3</td>\n",
       "      <td>DeMar DeRozan</td>\n",
       "      <td>Forward</td>\n",
       "      <td>32</td>\n",
       "      <td>76</td>\n",
       "      <td>2743</td>\n",
       "      <td>1535</td>\n",
       "      <td>0.504</td>\n",
       "      <td>0.521</td>\n",
       "      <td>392</td>\n",
       "      <td>374</td>\n",
       "      <td>2118</td>\n",
       "      <td>Y</td>\n",
       "    </tr>\n",
       "    <tr>\n",
       "      <th>3</th>\n",
       "      <td>4</td>\n",
       "      <td>Jayson Tatum</td>\n",
       "      <td>Forward</td>\n",
       "      <td>23</td>\n",
       "      <td>76</td>\n",
       "      <td>2731</td>\n",
       "      <td>1564</td>\n",
       "      <td>0.453</td>\n",
       "      <td>0.526</td>\n",
       "      <td>609</td>\n",
       "      <td>334</td>\n",
       "      <td>2046</td>\n",
       "      <td>Y</td>\n",
       "    </tr>\n",
       "    <tr>\n",
       "      <th>4</th>\n",
       "      <td>5</td>\n",
       "      <td>Saddiq Bey</td>\n",
       "      <td>Forward</td>\n",
       "      <td>22</td>\n",
       "      <td>82</td>\n",
       "      <td>2704</td>\n",
       "      <td>1136</td>\n",
       "      <td>0.396</td>\n",
       "      <td>0.489</td>\n",
       "      <td>441</td>\n",
       "      <td>233</td>\n",
       "      <td>1321</td>\n",
       "      <td>N</td>\n",
       "    </tr>\n",
       "    <tr>\n",
       "      <th>...</th>\n",
       "      <td>...</td>\n",
       "      <td>...</td>\n",
       "      <td>...</td>\n",
       "      <td>...</td>\n",
       "      <td>...</td>\n",
       "      <td>...</td>\n",
       "      <td>...</td>\n",
       "      <td>...</td>\n",
       "      <td>...</td>\n",
       "      <td>...</td>\n",
       "      <td>...</td>\n",
       "      <td>...</td>\n",
       "      <td>...</td>\n",
       "    </tr>\n",
       "    <tr>\n",
       "      <th>267</th>\n",
       "      <td>268</td>\n",
       "      <td>Lamar Stevens</td>\n",
       "      <td>Forward</td>\n",
       "      <td>24</td>\n",
       "      <td>63</td>\n",
       "      <td>1015</td>\n",
       "      <td>319</td>\n",
       "      <td>0.489</td>\n",
       "      <td>0.517</td>\n",
       "      <td>164</td>\n",
       "      <td>44</td>\n",
       "      <td>383</td>\n",
       "      <td>N</td>\n",
       "    </tr>\n",
       "    <tr>\n",
       "      <th>268</th>\n",
       "      <td>269</td>\n",
       "      <td>Cam Reddish</td>\n",
       "      <td>Forward</td>\n",
       "      <td>22</td>\n",
       "      <td>49</td>\n",
       "      <td>1012</td>\n",
       "      <td>408</td>\n",
       "      <td>0.404</td>\n",
       "      <td>0.485</td>\n",
       "      <td>105</td>\n",
       "      <td>48</td>\n",
       "      <td>497</td>\n",
       "      <td>N</td>\n",
       "    </tr>\n",
       "    <tr>\n",
       "      <th>269</th>\n",
       "      <td>270</td>\n",
       "      <td>Donte DiVincenzo</td>\n",
       "      <td>Guard</td>\n",
       "      <td>25</td>\n",
       "      <td>42</td>\n",
       "      <td>1006</td>\n",
       "      <td>336</td>\n",
       "      <td>0.351</td>\n",
       "      <td>0.461</td>\n",
       "      <td>170</td>\n",
       "      <td>118</td>\n",
       "      <td>380</td>\n",
       "      <td>N</td>\n",
       "    </tr>\n",
       "    <tr>\n",
       "      <th>270</th>\n",
       "      <td>271</td>\n",
       "      <td>Wesley Matthews</td>\n",
       "      <td>Guard</td>\n",
       "      <td>35</td>\n",
       "      <td>49</td>\n",
       "      <td>1002</td>\n",
       "      <td>220</td>\n",
       "      <td>0.395</td>\n",
       "      <td>0.516</td>\n",
       "      <td>92</td>\n",
       "      <td>36</td>\n",
       "      <td>249</td>\n",
       "      <td>N</td>\n",
       "    </tr>\n",
       "    <tr>\n",
       "      <th>271</th>\n",
       "      <td>272</td>\n",
       "      <td>Payton Pritchard</td>\n",
       "      <td>Guard</td>\n",
       "      <td>24</td>\n",
       "      <td>71</td>\n",
       "      <td>1001</td>\n",
       "      <td>373</td>\n",
       "      <td>0.429</td>\n",
       "      <td>0.564</td>\n",
       "      <td>134</td>\n",
       "      <td>139</td>\n",
       "      <td>442</td>\n",
       "      <td>N</td>\n",
       "    </tr>\n",
       "  </tbody>\n",
       "</table>\n",
       "<p>272 rows × 13 columns</p>\n",
       "</div>"
      ],
      "text/plain": [
       "     Instance       Player Name Position  Age  Games Played  Minutes Played  \\\n",
       "0           1     Mikal Bridges  Forward   25            82            2854   \n",
       "1           2     Miles Bridges  Forward   23            80            2837   \n",
       "2           3     DeMar DeRozan  Forward   32            76            2743   \n",
       "3           4      Jayson Tatum  Forward   23            76            2731   \n",
       "4           5        Saddiq Bey  Forward   22            82            2704   \n",
       "..        ...               ...      ...  ...           ...             ...   \n",
       "267       268     Lamar Stevens  Forward   24            63            1015   \n",
       "268       269       Cam Reddish  Forward   22            49            1012   \n",
       "269       270  Donte DiVincenzo    Guard   25            42            1006   \n",
       "270       271   Wesley Matthews    Guard   35            49            1002   \n",
       "271       272  Payton Pritchard    Guard   24            71            1001   \n",
       "\n",
       "     Field Goals Attempted  Field Goal%  effective Field Goal%  Rebounds  \\\n",
       "0                      858        0.534                  0.601       347   \n",
       "1                     1214        0.491                  0.554       559   \n",
       "2                     1535        0.504                  0.521       392   \n",
       "3                     1564        0.453                  0.526       609   \n",
       "4                     1136        0.396                  0.489       441   \n",
       "..                     ...          ...                    ...       ...   \n",
       "267                    319        0.489                  0.517       164   \n",
       "268                    408        0.404                  0.485       105   \n",
       "269                    336        0.351                  0.461       170   \n",
       "270                    220        0.395                  0.516        92   \n",
       "271                    373        0.429                  0.564       134   \n",
       "\n",
       "     Assists  Points All_Star  \n",
       "0        185    1162        N  \n",
       "1        300    1613        N  \n",
       "2        374    2118        Y  \n",
       "3        334    2046        Y  \n",
       "4        233    1321        N  \n",
       "..       ...     ...      ...  \n",
       "267       44     383        N  \n",
       "268       48     497        N  \n",
       "269      118     380        N  \n",
       "270       36     249        N  \n",
       "271      139     442        N  \n",
       "\n",
       "[272 rows x 13 columns]"
      ]
     },
     "execution_count": 1,
     "metadata": {},
     "output_type": "execute_result"
    }
   ],
   "source": [
    "    import numpy as np\n",
    "    import pandas as pd\n",
    "    from pandas import Series, DataFrame\n",
    "    import matplotlib.pyplot as plt\n",
    "    import sklearn.datasets\n",
    "    df = DataFrame()\n",
    "    df = pd.read_excel('ENGG_319_Cure_3.xlsx')\n",
    "    df"
   ]
  },
  {
   "cell_type": "markdown",
   "id": "06a044dc",
   "metadata": {},
   "source": [
    "## Divide the Data Into Training and Test Set"
   ]
  },
  {
   "cell_type": "code",
   "execution_count": 2,
   "id": "51cbbf67",
   "metadata": {},
   "outputs": [
    {
     "data": {
      "text/plain": [
       "0      N\n",
       "1      N\n",
       "2      Y\n",
       "3      Y\n",
       "4      N\n",
       "      ..\n",
       "267    N\n",
       "268    N\n",
       "269    N\n",
       "270    N\n",
       "271    N\n",
       "Name: All_Star, Length: 272, dtype: object"
      ]
     },
     "execution_count": 2,
     "metadata": {},
     "output_type": "execute_result"
    }
   ],
   "source": [
    "sy = df.All_Star\n",
    "df.drop(df.columns[[1,2,12]], axis=1, inplace=True)\n",
    "sy"
   ]
  },
  {
   "cell_type": "code",
   "execution_count": 3,
   "id": "fc0c3aa3",
   "metadata": {
    "scrolled": true
   },
   "outputs": [
    {
     "data": {
      "text/html": [
       "<div>\n",
       "<style scoped>\n",
       "    .dataframe tbody tr th:only-of-type {\n",
       "        vertical-align: middle;\n",
       "    }\n",
       "\n",
       "    .dataframe tbody tr th {\n",
       "        vertical-align: top;\n",
       "    }\n",
       "\n",
       "    .dataframe thead th {\n",
       "        text-align: right;\n",
       "    }\n",
       "</style>\n",
       "<table border=\"1\" class=\"dataframe\">\n",
       "  <thead>\n",
       "    <tr style=\"text-align: right;\">\n",
       "      <th></th>\n",
       "      <th>Instance</th>\n",
       "      <th>Age</th>\n",
       "      <th>Games Played</th>\n",
       "      <th>Minutes Played</th>\n",
       "      <th>Field Goals Attempted</th>\n",
       "      <th>Field Goal%</th>\n",
       "      <th>effective Field Goal%</th>\n",
       "      <th>Rebounds</th>\n",
       "      <th>Assists</th>\n",
       "      <th>Points</th>\n",
       "    </tr>\n",
       "  </thead>\n",
       "  <tbody>\n",
       "    <tr>\n",
       "      <th>0</th>\n",
       "      <td>1</td>\n",
       "      <td>25</td>\n",
       "      <td>82</td>\n",
       "      <td>2854</td>\n",
       "      <td>858</td>\n",
       "      <td>0.534</td>\n",
       "      <td>0.601</td>\n",
       "      <td>347</td>\n",
       "      <td>185</td>\n",
       "      <td>1162</td>\n",
       "    </tr>\n",
       "    <tr>\n",
       "      <th>1</th>\n",
       "      <td>2</td>\n",
       "      <td>23</td>\n",
       "      <td>80</td>\n",
       "      <td>2837</td>\n",
       "      <td>1214</td>\n",
       "      <td>0.491</td>\n",
       "      <td>0.554</td>\n",
       "      <td>559</td>\n",
       "      <td>300</td>\n",
       "      <td>1613</td>\n",
       "    </tr>\n",
       "    <tr>\n",
       "      <th>2</th>\n",
       "      <td>3</td>\n",
       "      <td>32</td>\n",
       "      <td>76</td>\n",
       "      <td>2743</td>\n",
       "      <td>1535</td>\n",
       "      <td>0.504</td>\n",
       "      <td>0.521</td>\n",
       "      <td>392</td>\n",
       "      <td>374</td>\n",
       "      <td>2118</td>\n",
       "    </tr>\n",
       "    <tr>\n",
       "      <th>3</th>\n",
       "      <td>4</td>\n",
       "      <td>23</td>\n",
       "      <td>76</td>\n",
       "      <td>2731</td>\n",
       "      <td>1564</td>\n",
       "      <td>0.453</td>\n",
       "      <td>0.526</td>\n",
       "      <td>609</td>\n",
       "      <td>334</td>\n",
       "      <td>2046</td>\n",
       "    </tr>\n",
       "    <tr>\n",
       "      <th>4</th>\n",
       "      <td>5</td>\n",
       "      <td>22</td>\n",
       "      <td>82</td>\n",
       "      <td>2704</td>\n",
       "      <td>1136</td>\n",
       "      <td>0.396</td>\n",
       "      <td>0.489</td>\n",
       "      <td>441</td>\n",
       "      <td>233</td>\n",
       "      <td>1321</td>\n",
       "    </tr>\n",
       "    <tr>\n",
       "      <th>...</th>\n",
       "      <td>...</td>\n",
       "      <td>...</td>\n",
       "      <td>...</td>\n",
       "      <td>...</td>\n",
       "      <td>...</td>\n",
       "      <td>...</td>\n",
       "      <td>...</td>\n",
       "      <td>...</td>\n",
       "      <td>...</td>\n",
       "      <td>...</td>\n",
       "    </tr>\n",
       "    <tr>\n",
       "      <th>267</th>\n",
       "      <td>268</td>\n",
       "      <td>24</td>\n",
       "      <td>63</td>\n",
       "      <td>1015</td>\n",
       "      <td>319</td>\n",
       "      <td>0.489</td>\n",
       "      <td>0.517</td>\n",
       "      <td>164</td>\n",
       "      <td>44</td>\n",
       "      <td>383</td>\n",
       "    </tr>\n",
       "    <tr>\n",
       "      <th>268</th>\n",
       "      <td>269</td>\n",
       "      <td>22</td>\n",
       "      <td>49</td>\n",
       "      <td>1012</td>\n",
       "      <td>408</td>\n",
       "      <td>0.404</td>\n",
       "      <td>0.485</td>\n",
       "      <td>105</td>\n",
       "      <td>48</td>\n",
       "      <td>497</td>\n",
       "    </tr>\n",
       "    <tr>\n",
       "      <th>269</th>\n",
       "      <td>270</td>\n",
       "      <td>25</td>\n",
       "      <td>42</td>\n",
       "      <td>1006</td>\n",
       "      <td>336</td>\n",
       "      <td>0.351</td>\n",
       "      <td>0.461</td>\n",
       "      <td>170</td>\n",
       "      <td>118</td>\n",
       "      <td>380</td>\n",
       "    </tr>\n",
       "    <tr>\n",
       "      <th>270</th>\n",
       "      <td>271</td>\n",
       "      <td>35</td>\n",
       "      <td>49</td>\n",
       "      <td>1002</td>\n",
       "      <td>220</td>\n",
       "      <td>0.395</td>\n",
       "      <td>0.516</td>\n",
       "      <td>92</td>\n",
       "      <td>36</td>\n",
       "      <td>249</td>\n",
       "    </tr>\n",
       "    <tr>\n",
       "      <th>271</th>\n",
       "      <td>272</td>\n",
       "      <td>24</td>\n",
       "      <td>71</td>\n",
       "      <td>1001</td>\n",
       "      <td>373</td>\n",
       "      <td>0.429</td>\n",
       "      <td>0.564</td>\n",
       "      <td>134</td>\n",
       "      <td>139</td>\n",
       "      <td>442</td>\n",
       "    </tr>\n",
       "  </tbody>\n",
       "</table>\n",
       "<p>272 rows × 10 columns</p>\n",
       "</div>"
      ],
      "text/plain": [
       "     Instance  Age  Games Played  Minutes Played  Field Goals Attempted  \\\n",
       "0           1   25            82            2854                    858   \n",
       "1           2   23            80            2837                   1214   \n",
       "2           3   32            76            2743                   1535   \n",
       "3           4   23            76            2731                   1564   \n",
       "4           5   22            82            2704                   1136   \n",
       "..        ...  ...           ...             ...                    ...   \n",
       "267       268   24            63            1015                    319   \n",
       "268       269   22            49            1012                    408   \n",
       "269       270   25            42            1006                    336   \n",
       "270       271   35            49            1002                    220   \n",
       "271       272   24            71            1001                    373   \n",
       "\n",
       "     Field Goal%  effective Field Goal%  Rebounds  Assists  Points  \n",
       "0          0.534                  0.601       347      185    1162  \n",
       "1          0.491                  0.554       559      300    1613  \n",
       "2          0.504                  0.521       392      374    2118  \n",
       "3          0.453                  0.526       609      334    2046  \n",
       "4          0.396                  0.489       441      233    1321  \n",
       "..           ...                    ...       ...      ...     ...  \n",
       "267        0.489                  0.517       164       44     383  \n",
       "268        0.404                  0.485       105       48     497  \n",
       "269        0.351                  0.461       170      118     380  \n",
       "270        0.395                  0.516        92       36     249  \n",
       "271        0.429                  0.564       134      139     442  \n",
       "\n",
       "[272 rows x 10 columns]"
      ]
     },
     "execution_count": 3,
     "metadata": {},
     "output_type": "execute_result"
    }
   ],
   "source": [
    "dfx = df\n",
    "df"
   ]
  },
  {
   "cell_type": "code",
   "execution_count": 4,
   "id": "e6a5ed77",
   "metadata": {},
   "outputs": [],
   "source": [
    "from sklearn.model_selection import train_test_split\n",
    "dfx_train, dfx_test, sy_train, sy_test = train_test_split(dfx, sy)"
   ]
  },
  {
   "cell_type": "code",
   "execution_count": 5,
   "id": "ecfb6125",
   "metadata": {},
   "outputs": [
    {
     "data": {
      "text/plain": [
       "(     Instance  Age  Games Played  Minutes Played  Field Goals Attempted  \\\n",
       " 31         32   26            75            2376                    834   \n",
       " 47         48   22            76            2283                   1058   \n",
       " 135       136   23            70            1749                    575   \n",
       " 271       272   24            71            1001                    373   \n",
       " 200       201   26            60            1372                    410   \n",
       " ..        ...  ...           ...             ...                    ...   \n",
       " 55         56   31            67            2207                    954   \n",
       " 43         44   25            81            2317                    690   \n",
       " 223       224   20            61            1233                    456   \n",
       " 15         16   25            79            2524                   1008   \n",
       " 174       175   28            65            1519                    325   \n",
       " \n",
       "      Field Goal%  effective Field Goal%  Rebounds  Assists  Points  \n",
       " 31         0.520                  0.573       439      188    1126  \n",
       " 47         0.448                  0.548       260      304    1405  \n",
       " 135        0.376                  0.478       347      118     605  \n",
       " 271        0.429                  0.564       134      139     442  \n",
       " 200        0.507                  0.585       230       64     551  \n",
       " ..           ...                    ...       ...      ...     ...  \n",
       " 55         0.501                  0.570       301      457    1225  \n",
       " 43         0.484                  0.539       425      209     872  \n",
       " 223        0.408                  0.470       318      131     464  \n",
       " 15         0.502                  0.549       309      377    1285  \n",
       " 174        0.542                  0.597       276       60     468  \n",
       " \n",
       " [204 rows x 10 columns],\n",
       "      Instance  Age  Games Played  Minutes Played  Field Goals Attempted  \\\n",
       " 120       121   23            71            1824                    617   \n",
       " 125       126   21            70            1803                    554   \n",
       " 168       169   23            67            1564                    506   \n",
       " 219       220   25            64            1246                    447   \n",
       " 4           5   22            82            2704                   1136   \n",
       " ..        ...  ...           ...             ...                    ...   \n",
       " 160       161   30            65            1600                    400   \n",
       " 217       218   35            54            1253                    275   \n",
       " 162       163   31            78            1596                    441   \n",
       " 250       251   29            29            1091                    616   \n",
       " 53         54   25            66            2220                   1217   \n",
       " \n",
       "      Field Goal%  effective Field Goal%  Rebounds  Assists  Points  \n",
       " 120        0.480                  0.566       572       85     756  \n",
       " 125        0.460                  0.532       293       79     647  \n",
       " 168        0.411                  0.493       358       72     613  \n",
       " 219        0.644                  0.650       342       86     666  \n",
       " 4          0.396                  0.489       441      233    1321  \n",
       " ..           ...                    ...       ...      ...     ...  \n",
       " 160        0.445                  0.526       174      237     521  \n",
       " 217        0.429                  0.504       155      120     334  \n",
       " 162        0.454                  0.541       310       91     516  \n",
       " 250        0.469                  0.550       127      167     796  \n",
       " 53         0.473                  0.541       404      231    1559  \n",
       " \n",
       " [68 rows x 10 columns],\n",
       " 31     N\n",
       " 47     N\n",
       " 135    N\n",
       " 271    N\n",
       " 200    N\n",
       "       ..\n",
       " 55     N\n",
       " 43     N\n",
       " 223    N\n",
       " 15     N\n",
       " 174    N\n",
       " Name: All_Star, Length: 204, dtype: object,\n",
       " 120    N\n",
       " 125    N\n",
       " 168    N\n",
       " 219    N\n",
       " 4      N\n",
       "       ..\n",
       " 160    N\n",
       " 217    N\n",
       " 162    N\n",
       " 250    N\n",
       " 53     N\n",
       " Name: All_Star, Length: 68, dtype: object)"
      ]
     },
     "execution_count": 5,
     "metadata": {},
     "output_type": "execute_result"
    }
   ],
   "source": [
    "dfx_train, dfx_test, sy_train, sy_test"
   ]
  },
  {
   "cell_type": "markdown",
   "id": "6cac1f58",
   "metadata": {},
   "source": [
    "## Data Preprocessing"
   ]
  },
  {
   "cell_type": "code",
   "execution_count": 6,
   "id": "a4ced15a",
   "metadata": {},
   "outputs": [
    {
     "data": {
      "text/plain": [
       "array(['N', 'Y'], dtype=object)"
      ]
     },
     "execution_count": 6,
     "metadata": {},
     "output_type": "execute_result"
    }
   ],
   "source": [
    "from sklearn import preprocessing\n",
    "le = preprocessing.LabelEncoder()\n",
    "le = le.fit(sy_train)\n",
    "le.classes_"
   ]
  },
  {
   "cell_type": "code",
   "execution_count": 7,
   "id": "b62e0316",
   "metadata": {},
   "outputs": [
    {
     "data": {
      "text/plain": [
       "(31     N\n",
       " 47     N\n",
       " 135    N\n",
       " 271    N\n",
       " 200    N\n",
       "       ..\n",
       " 55     N\n",
       " 43     N\n",
       " 223    N\n",
       " 15     N\n",
       " 174    N\n",
       " Name: All_Star, Length: 204, dtype: object,\n",
       " array([0, 0, 0, 0, 0, 1, 0, 0, 0, 0, 0, 0, 0, 0, 0, 0, 0, 0, 0, 0, 0, 0,\n",
       "        0, 0, 0, 0, 0, 1, 0, 0, 0, 0, 0, 0, 1, 0, 0, 0, 0, 0, 0, 0, 0, 1,\n",
       "        1, 0, 0, 0, 0, 0, 0, 0, 0, 0, 0, 0, 0, 0, 0, 0, 0, 0, 0, 0, 0, 0,\n",
       "        0, 0, 0, 1, 0, 0, 0, 0, 0, 1, 0, 0, 0, 0, 0, 0, 0, 0, 1, 0, 0, 1,\n",
       "        0, 0, 0, 0, 0, 0, 1, 0, 0, 0, 0, 0, 0, 1, 0, 0, 0, 0, 0, 0, 1, 0,\n",
       "        0, 0, 0, 1, 0, 0, 0, 0, 0, 0, 0, 0, 0, 0, 0, 0, 0, 0, 0, 0, 0, 1,\n",
       "        0, 0, 0, 0, 0, 0, 0, 0, 0, 0, 0, 0, 1, 0, 0, 0, 0, 0, 0, 0, 1, 0,\n",
       "        0, 0, 0, 0, 0, 0, 0, 0, 0, 0, 0, 0, 0, 0, 0, 0, 0, 0, 0, 0, 0, 1,\n",
       "        1, 0, 0, 0, 0, 0, 0, 0, 0, 0, 0, 0, 0, 0, 0, 0, 0, 0, 0, 0, 0, 0,\n",
       "        1, 0, 0, 0, 0, 0]))"
      ]
     },
     "execution_count": 7,
     "metadata": {},
     "output_type": "execute_result"
    }
   ],
   "source": [
    "y_train = le.transform(sy_train)\n",
    "sy_train, y_train"
   ]
  },
  {
   "cell_type": "code",
   "execution_count": 8,
   "id": "c7a55f52",
   "metadata": {},
   "outputs": [
    {
     "data": {
      "text/plain": [
       "array([[  32.,   26.,   75., ...,  439.,  188., 1126.],\n",
       "       [  48.,   22.,   76., ...,  260.,  304., 1405.],\n",
       "       [ 136.,   23.,   70., ...,  347.,  118.,  605.],\n",
       "       ...,\n",
       "       [ 224.,   20.,   61., ...,  318.,  131.,  464.],\n",
       "       [  16.,   25.,   79., ...,  309.,  377., 1285.],\n",
       "       [ 175.,   28.,   65., ...,  276.,   60.,  468.]])"
      ]
     },
     "execution_count": 8,
     "metadata": {},
     "output_type": "execute_result"
    }
   ],
   "source": [
    "dfx_train.to_numpy()"
   ]
  },
  {
   "cell_type": "code",
   "execution_count": 9,
   "id": "7390f682",
   "metadata": {},
   "outputs": [
    {
     "data": {
      "text/plain": [
       "array([[0.11439114, 0.38888889, 0.8627451 , ..., 0.39611872, 0.22893258,\n",
       "        0.46012592],\n",
       "       [0.17343173, 0.16666667, 0.88235294, ..., 0.19178082, 0.39185393,\n",
       "        0.60650577],\n",
       "       [0.49815498, 0.22222222, 0.76470588, ..., 0.29109589, 0.13061798,\n",
       "        0.18677859],\n",
       "       ...,\n",
       "       [0.82287823, 0.05555556, 0.58823529, ..., 0.25799087, 0.1488764 ,\n",
       "        0.11280168],\n",
       "       [0.05535055, 0.33333333, 0.94117647, ..., 0.24771689, 0.49438202,\n",
       "        0.54354669],\n",
       "       [0.64206642, 0.5       , 0.66666667, ..., 0.21004566, 0.0491573 ,\n",
       "        0.11490031]])"
      ]
     },
     "execution_count": 9,
     "metadata": {},
     "output_type": "execute_result"
    }
   ],
   "source": [
    "n1 = preprocessing.MinMaxScaler()\n",
    "n1 = n1.fit(dfx_train.to_numpy())\n",
    "x_train = n1.transform(dfx_train.to_numpy())\n",
    "x_train"
   ]
  },
  {
   "cell_type": "markdown",
   "id": "fbcd807b",
   "metadata": {},
   "source": [
    "## Building the Machine Learning model for classification"
   ]
  },
  {
   "cell_type": "code",
   "execution_count": 10,
   "id": "2f7085db",
   "metadata": {},
   "outputs": [
    {
     "data": {
      "text/plain": [
       "(204, 10)"
      ]
     },
     "execution_count": 10,
     "metadata": {},
     "output_type": "execute_result"
    }
   ],
   "source": [
    "x_train.shape"
   ]
  },
  {
   "cell_type": "code",
   "execution_count": 11,
   "id": "f4186a51",
   "metadata": {},
   "outputs": [],
   "source": [
    "from sklearn.neighbors import KNeighborsClassifier\n",
    "\n",
    "test = []\n",
    "train = []\n",
    "i = 1\n",
    "while i < 33 :\n",
    "\n",
    "    knn = KNeighborsClassifier(n_neighbors = i)\n",
    "    knn = knn.fit(x_train,y_train)\n",
    "    y_test = le.transform(sy_test.to_numpy())\n",
    "    x_test = n1.transform(dfx_test.to_numpy())\n",
    "    knn.predict(x_test)\n",
    "    \n",
    "    a = knn.score(x_test,y_test)\n",
    "    b = knn.score(x_train,y_train)\n",
    "\n",
    "    test.append(a)\n",
    "    train.append(b)\n",
    "    i += 1\n",
    "    "
   ]
  },
  {
   "cell_type": "markdown",
   "id": "6604e165",
   "metadata": {},
   "source": [
    "## Evaluation of the model"
   ]
  },
  {
   "cell_type": "code",
   "execution_count": 12,
   "id": "04f7e97d",
   "metadata": {},
   "outputs": [
    {
     "data": {
      "text/plain": [
       "[0.8970588235294118,\n",
       " 0.9117647058823529,\n",
       " 0.8823529411764706,\n",
       " 0.8823529411764706,\n",
       " 0.8676470588235294,\n",
       " 0.8823529411764706,\n",
       " 0.8970588235294118,\n",
       " 0.9117647058823529,\n",
       " 0.9117647058823529,\n",
       " 0.8970588235294118,\n",
       " 0.8970588235294118,\n",
       " 0.8970588235294118,\n",
       " 0.8970588235294118,\n",
       " 0.8970588235294118,\n",
       " 0.8970588235294118,\n",
       " 0.8970588235294118,\n",
       " 0.8970588235294118,\n",
       " 0.8970588235294118,\n",
       " 0.9117647058823529,\n",
       " 0.8970588235294118,\n",
       " 0.8970588235294118,\n",
       " 0.8970588235294118,\n",
       " 0.8970588235294118,\n",
       " 0.8823529411764706,\n",
       " 0.9117647058823529,\n",
       " 0.8823529411764706,\n",
       " 0.8970588235294118,\n",
       " 0.8823529411764706,\n",
       " 0.8823529411764706,\n",
       " 0.8823529411764706,\n",
       " 0.8823529411764706,\n",
       " 0.8823529411764706]"
      ]
     },
     "execution_count": 12,
     "metadata": {},
     "output_type": "execute_result"
    }
   ],
   "source": [
    "test"
   ]
  },
  {
   "cell_type": "code",
   "execution_count": 13,
   "id": "130eda5e",
   "metadata": {},
   "outputs": [
    {
     "data": {
      "text/plain": [
       "[1.0,\n",
       " 0.9558823529411765,\n",
       " 0.9607843137254902,\n",
       " 0.9509803921568627,\n",
       " 0.9558823529411765,\n",
       " 0.9509803921568627,\n",
       " 0.9558823529411765,\n",
       " 0.946078431372549,\n",
       " 0.9411764705882353,\n",
       " 0.9411764705882353,\n",
       " 0.946078431372549,\n",
       " 0.946078431372549,\n",
       " 0.9411764705882353,\n",
       " 0.9362745098039216,\n",
       " 0.9411764705882353,\n",
       " 0.9313725490196079,\n",
       " 0.9313725490196079,\n",
       " 0.9264705882352942,\n",
       " 0.9264705882352942,\n",
       " 0.9215686274509803,\n",
       " 0.9215686274509803,\n",
       " 0.9166666666666666,\n",
       " 0.9264705882352942,\n",
       " 0.9166666666666666,\n",
       " 0.9166666666666666,\n",
       " 0.9166666666666666,\n",
       " 0.9166666666666666,\n",
       " 0.9068627450980392,\n",
       " 0.9068627450980392,\n",
       " 0.9068627450980392,\n",
       " 0.9068627450980392,\n",
       " 0.9068627450980392]"
      ]
     },
     "execution_count": 13,
     "metadata": {},
     "output_type": "execute_result"
    }
   ],
   "source": [
    "train"
   ]
  },
  {
   "cell_type": "code",
   "execution_count": 14,
   "id": "766e99e8",
   "metadata": {},
   "outputs": [
    {
     "data": {
      "text/plain": [
       "array([0, 0, 0, 0, 0, 0, 0, 0, 1, 0, 0, 1, 0, 0, 0, 1, 0, 0, 0, 0, 0, 0,\n",
       "       0, 0, 0, 0, 1, 0, 0, 0, 0, 0, 0, 0, 0, 0, 0, 0, 1, 1, 0, 1, 0, 0,\n",
       "       0, 0, 0, 0, 1, 0, 0, 0, 0, 0, 0, 0, 0, 0, 0, 0, 0, 0, 0, 0, 0, 0,\n",
       "       0, 0])"
      ]
     },
     "execution_count": 14,
     "metadata": {},
     "output_type": "execute_result"
    }
   ],
   "source": [
    "y_test"
   ]
  },
  {
   "cell_type": "code",
   "execution_count": 15,
   "id": "9fab9c4a",
   "metadata": {},
   "outputs": [
    {
     "data": {
      "text/plain": [
       "<matplotlib.legend.Legend at 0x1f1db0a9400>"
      ]
     },
     "execution_count": 15,
     "metadata": {},
     "output_type": "execute_result"
    },
    {
     "data": {
      "image/png": "[encoded data removed]",
      "text/plain": [
       "<Figure size 720x180 with 1 Axes>"
      ]
     },
     "metadata": {
      "needs_background": "light"
     },
     "output_type": "display_data"
    }
   ],
   "source": [
    "i = 1\n",
    "count = []\n",
    "while i < 33:\n",
    "    count.append(i)\n",
    "    i += 1\n",
    "\n",
    "fig, axs = plt.subplots(nrows=1, ncols=1, figsize=(10,2.5))\n",
    "axs.scatter(count, test, color = 'blue', label = 'test')\n",
    "axs.scatter(count, train, color = 'yellow', label = 'train')\n",
    "axs.set_xticks(count)\n",
    "axs.set_ylim(0.85,1.05)\n",
    "axs.set_xlabel('knn number')\n",
    "axs.set_ylabel('score')\n",
    "axs.legend()"
   ]
  },
  {
   "cell_type": "markdown",
   "id": "f6d5fca0",
   "metadata": {},
   "source": [
    "## Choosing k value of 17 and using min max scaler"
   ]
  },
  {
   "cell_type": "code",
   "execution_count": 18,
   "id": "2e1da83c",
   "metadata": {},
   "outputs": [],
   "source": [
    "from sklearn.metrics import confusion_matrix\n",
    "import seaborn as sns"
   ]
  },
  {
   "cell_type": "code",
   "execution_count": 22,
   "id": "57d8a35e",
   "metadata": {},
   "outputs": [
    {
     "data": {
      "text/plain": [
       "array([[60,  0],\n",
       "       [ 7,  1]], dtype=int64)"
      ]
     },
     "execution_count": 22,
     "metadata": {},
     "output_type": "execute_result"
    }
   ],
   "source": [
    "kmm=KNeighborsClassifier(n_neighbors=17)\n",
    "kmm.fit(x_train,y_train)\n",
    "pred=kmm.predict(x_test)\n",
    "conMat=confusion_matrix(y_test, pred) \n",
    "conMat"
   ]
  },
  {
   "cell_type": "code",
   "execution_count": 23,
   "id": "3a61d1ad",
   "metadata": {},
   "outputs": [
    {
     "ename": "NameError",
     "evalue": "name 'classification_report' is not defined",
     "output_type": "error",
     "traceback": [
      "\u001b[1;31m---------------------------------------------------------------------------\u001b[0m",
      "\u001b[1;31mNameError\u001b[0m                                 Traceback (most recent call last)",
      "Input \u001b[1;32mIn [23]\u001b[0m, in \u001b[0;36m<cell line: 1>\u001b[1;34m()\u001b[0m\n\u001b[1;32m----> 1\u001b[0m \u001b[38;5;28mprint\u001b[39m(\u001b[43mclassification_report\u001b[49m(y_test,pred))\n",
      "\u001b[1;31mNameError\u001b[0m: name 'classification_report' is not defined"
     ]
    }
   ],
   "source": [
    "print(classification_report(y_test,pred))"
   ]
  },
  {
   "cell_type": "code",
   "execution_count": null,
   "id": "059f07d9",
   "metadata": {},
   "outputs": [],
   "source": []
  }
 ],
 "metadata": {
  "kernelspec": {
   "display_name": "Python 3 (ipykernel)",
   "language": "python",
   "name": "python3"
  },
  "language_info": {
   "codemirror_mode": {
    "name": "ipython",
    "version": 3
   },
   "file_extension": ".py",
   "mimetype": "text/x-python",
   "name": "python",
   "nbconvert_exporter": "python",
   "pygments_lexer": "ipython3",
   "version": "3.9.12"
  }
 },
 "nbformat": 4,
 "nbformat_minor": 5
}
